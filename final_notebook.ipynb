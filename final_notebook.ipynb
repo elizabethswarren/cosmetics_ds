{
 "cells": [
  {
   "cell_type": "markdown",
   "id": "1ab46d2b",
   "metadata": {},
   "source": [
    "# Hazardous Ingredients in Cosmetics Project"
   ]
  },
  {
   "cell_type": "markdown",
   "id": "bbf890c3",
   "metadata": {},
   "source": [
    "This project contains data from the California Department of Public Health where they maintain a database of all personal beauty products that contain ingredients that could potentially be hazardous. All products are self-reported by the manufacturers or companies, and reporting is required if the company:\n",
    "\n",
    "   * Has annual aggregate sales of cosmetic products of one million dollars or more, and\n",
    "   * Has sold cosmetic products in California on or after January 1, 2007.\n",
    "   \n",
    "Additional data from Kaggle was added to ensure that products that do not contain a hazardous ingredient are included in the project."
   ]
  },
  {
   "cell_type": "markdown",
   "id": "4164f8e2",
   "metadata": {},
   "source": [
    "## Goals:\n",
    "   * Determine features that could determine whether a product will contain a hazardous ingredient.\n",
    "   * Build a model that can accurately predict if a product contains a hazardous ingredient."
   ]
  },
  {
   "cell_type": "markdown",
   "id": "a881f134",
   "metadata": {},
   "source": [
    "## Imports"
   ]
  },
  {
   "cell_type": "code",
   "execution_count": 1,
   "id": "e287a021",
   "metadata": {},
   "outputs": [],
   "source": [
    "import pandas as pd\n",
    "import numpy as np\n",
    "import matplotlib.pyplot as plt\n",
    "from matplotlib.pyplot import figure\n",
    "import warnings\n",
    "warnings.filterwarnings(\"ignore\")\n",
    "\n",
    "import seaborn as sns\n",
    "from scipy import stats\n",
    "\n",
    "\n",
    "from sklearn.model_selection import train_test_split\n",
    "import sklearn.preprocessing\n",
    "from sklearn.tree import DecisionTreeClassifier, plot_tree\n",
    "from sklearn.ensemble import RandomForestClassifier\n",
    "from sklearn.neighbors import KNeighborsClassifier\n",
    "from sklearn.linear_model import LogisticRegression\n",
    "from sklearn.metrics import confusion_matrix, classification_report\n",
    "\n",
    "import category_encoders as ce\n",
    "import prepare as p"
   ]
  },
  {
   "cell_type": "markdown",
   "id": "b4b4f40a",
   "metadata": {},
   "source": [
    "## Acquire\n",
    "* Data acquired from California Department of Public Health (CDPH) and Kaggle.com\n",
    "* Two separate dataframes are acquired before cleaning\n",
    "    * DF1, the data from Kaggle, has 11 columns and 1472 rows before cleaning\n",
    "    * DF2, the data from CDPH, has 22 columns and 114635 rows before cleaning\n",
    "* Each row is a single product\n",
    "* Each column contains information about the product"
   ]
  },
  {
   "cell_type": "markdown",
   "id": "f7297749",
   "metadata": {},
   "source": [
    "## Prepare\n",
    "DF1 (Kaggle):\n",
    "* Duplicates removed\n",
    "* Ingredients extracted from single cell\n",
    "* Target column, has_hazard_ingredient, created when comparing ingredients to hazard ingredient list.\n",
    "* Unused columns dropped\n",
    "* Product types renamed to match CHDP data.\n",
    "    * Only Skincare products and Sunscreen products\n",
    "* Columns renamed to match CDHP data.\n",
    "\n",
    "DF2 (CDPH):\n",
    "* Duplicates removed\n",
    "* Target column, has_hazard_ingredient, created\n",
    "* Unused columns dropped\n",
    "* Columns renamed\n",
    "\n",
    "Final dataframe:\n",
    "* Combined Kaggle and CDPH dataframes\n",
    "* All other types of products other than Skincare and Sunscreen removed:\n",
    "    * These two types were the only ones that contained products with non-hazardous ingredients\n",
    "* Split the data into train, validate, split in a 50, 30, 20 split, stratified on has_hazard_ingredient.\n",
    "* 'Brand' and 'Type' features encoded:\n",
    "    * LeaveOneOut Encoding used for dimensionality issues with a sigma = 0.5 to avoid overfitting.\n",
    "        * Target excluded in test data\n",
    "* Final dataframe has 4 columns and 7193 rows."
   ]
  },
  {
   "cell_type": "code",
   "execution_count": 2,
   "id": "1616b748",
   "metadata": {},
   "outputs": [],
   "source": [
    "# acquire\n",
    "df1, df2 = p.get_cosmetic_data()"
   ]
  },
  {
   "cell_type": "markdown",
   "id": "9ad3396f",
   "metadata": {},
   "source": [
    "## Before we clean it up, let's see some interesting numbers from the CDHP database:"
   ]
  },
  {
   "cell_type": "code",
   "execution_count": 3,
   "id": "d007e928",
   "metadata": {},
   "outputs": [
    {
     "data": {
      "text/plain": [
       "Titanium dioxide                                                                                       93480\n",
       "Silica, crystalline (airborne particles of respirable size)                                             2817\n",
       "Retinol/retinyl esters, when in daily dosages in excess of 10,000 IU, or 3,000 retinol equivalents.     2154\n",
       "Mica                                                                                                    1919\n",
       "Butylated hydroxyanisole                                                                                1888\n",
       "Name: ChemicalName, dtype: int64"
      ]
     },
     "execution_count": 3,
     "metadata": {},
     "output_type": "execute_result"
    }
   ],
   "source": [
    "#top 5 hazardous chemicals products\n",
    "df2.ChemicalName.value_counts().sort_values(ascending=False).head(5)"
   ]
  },
  {
   "cell_type": "code",
   "execution_count": 4,
   "id": "87799526",
   "metadata": {},
   "outputs": [
    {
     "data": {
      "text/plain": [
       "L'Oreal USA                            5747\n",
       "S+                                     5165\n",
       "Coty                                   5162\n",
       "Revlon Consumer Product Corporation    4341\n",
       "Bare Escentuals Beauty, Inc.           3828\n",
       "The Procter & Gamble Company           3535\n",
       "NYX Los Angeles, Inc.                  3227\n",
       "Charlotte Tilbury Beauty Ltd           2770\n",
       "Tarte Cosmetics                        2497\n",
       "Victoria's Secret Beauty               2219\n",
       "Name: CompanyName, dtype: int64"
      ]
     },
     "execution_count": 4,
     "metadata": {},
     "output_type": "execute_result"
    }
   ],
   "source": [
    "#list of 10 companies with the most products with hazardous ingredients\n",
    "df2.CompanyName.value_counts().sort_values(ascending=False).head(10)"
   ]
  },
  {
   "cell_type": "code",
   "execution_count": 5,
   "id": "ffd1ab7e",
   "metadata": {},
   "outputs": [
    {
     "data": {
      "text/plain": [
       "SEPHORA                     3394\n",
       "NYX                         3227\n",
       "bareMinerals                3158\n",
       "Charlotte Tilbury           2453\n",
       "Revlon                      2335\n",
       "NARS                        2185\n",
       "Victoria's Secret Beauty    2106\n",
       "tarte                       2101\n",
       "Sally Hansen                1834\n",
       "Name: BrandName, dtype: int64"
      ]
     },
     "execution_count": 5,
     "metadata": {},
     "output_type": "execute_result"
    }
   ],
   "source": [
    "#list of 10 brands with the most products with hazardous ingredients\n",
    "df2.BrandName.value_counts().sort_values(ascending=False).head(9)"
   ]
  },
  {
   "cell_type": "code",
   "execution_count": 6,
   "id": "4d69af44",
   "metadata": {},
   "outputs": [],
   "source": [
    "# clean the first df\n",
    "df1, df2 = p.prep_df1(df1,df2)\n",
    "\n",
    "#clean the second df\n",
    "df2 = p.prep_df2(df2)\n",
    "\n",
    "#clean the final df\n",
    "df = p.final_prep(df1,df2)"
   ]
  },
  {
   "cell_type": "code",
   "execution_count": 8,
   "id": "a24978e5",
   "metadata": {},
   "outputs": [],
   "source": [
    "#split the data\n",
    "train, validate, test = p.train_validate_test_split(df, 'has_hazard_ingredient', seed=611)"
   ]
  },
  {
   "cell_type": "markdown",
   "id": "fd586c4c",
   "metadata": {},
   "source": [
    "## Explore"
   ]
  },
  {
   "cell_type": "code",
   "execution_count": null,
   "id": "ad1c2fc3",
   "metadata": {},
   "outputs": [],
   "source": []
  }
 ],
 "metadata": {
  "kernelspec": {
   "display_name": "Python 3 (ipykernel)",
   "language": "python",
   "name": "python3"
  },
  "language_info": {
   "codemirror_mode": {
    "name": "ipython",
    "version": 3
   },
   "file_extension": ".py",
   "mimetype": "text/x-python",
   "name": "python",
   "nbconvert_exporter": "python",
   "pygments_lexer": "ipython3",
   "version": "3.10.9"
  }
 },
 "nbformat": 4,
 "nbformat_minor": 5
}
